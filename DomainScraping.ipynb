{
 "cells": [
  {
   "cell_type": "markdown",
   "metadata": {},
   "source": [
    "## Extract Data from Domain.com.au"
   ]
  },
  {
   "cell_type": "markdown",
   "metadata": {},
   "source": [
    "#### 1. Parse URL to extract Auction/Sales results for individual suburbs (URL specific) "
   ]
  },
  {
   "cell_type": "code",
   "execution_count": 154,
   "metadata": {},
   "outputs": [],
   "source": [
    "import pandas as pd\n",
    "import numpy as np\n",
    "import requests\n",
    "\n",
    "from bs4 import BeautifulSoup\n"
   ]
  },
  {
   "cell_type": "code",
   "execution_count": 155,
   "metadata": {},
   "outputs": [],
   "source": [
    "\n",
    "soup = requests.get('https://www.domain.com.au/sold-listings/mernda-vic-3754/?page=1')\n",
    "result = BeautifulSoup(soup.content,'html5lib')"
   ]
  },
  {
   "cell_type": "markdown",
   "metadata": {},
   "source": [
    "### 1st Page of Search Results"
   ]
  },
  {
   "cell_type": "code",
   "execution_count": 156,
   "metadata": {},
   "outputs": [],
   "source": [
    "# Extract Sold Price\n",
    "price = result.find_all('p', attrs={\"class\":\"css-mgq8yx\"})\n",
    "prices = []\n",
    "for price in price:\n",
    "    prices.append(price.text)\n",
    "Sold_Price = pd.DataFrame(prices, columns=[\"Sold_Price\"])"
   ]
  },
  {
   "cell_type": "code",
   "execution_count": 157,
   "metadata": {},
   "outputs": [
    {
     "data": {
      "text/html": [
       "<div>\n",
       "<style scoped>\n",
       "    .dataframe tbody tr th:only-of-type {\n",
       "        vertical-align: middle;\n",
       "    }\n",
       "\n",
       "    .dataframe tbody tr th {\n",
       "        vertical-align: top;\n",
       "    }\n",
       "\n",
       "    .dataframe thead th {\n",
       "        text-align: right;\n",
       "    }\n",
       "</style>\n",
       "<table border=\"1\" class=\"dataframe\">\n",
       "  <thead>\n",
       "    <tr style=\"text-align: right;\">\n",
       "      <th></th>\n",
       "      <th>Address</th>\n",
       "    </tr>\n",
       "  </thead>\n",
       "  <tbody>\n",
       "    <tr>\n",
       "      <th>0</th>\n",
       "      <td>5 Destiny View</td>\n",
       "    </tr>\n",
       "    <tr>\n",
       "      <th>1</th>\n",
       "      <td>14 Womble  Way</td>\n",
       "    </tr>\n",
       "    <tr>\n",
       "      <th>2</th>\n",
       "      <td>57 Bellini Way</td>\n",
       "    </tr>\n",
       "    <tr>\n",
       "      <th>3</th>\n",
       "      <td>38 Boyce Boulevard</td>\n",
       "    </tr>\n",
       "    <tr>\n",
       "      <th>4</th>\n",
       "      <td>77 Waterview Drive</td>\n",
       "    </tr>\n",
       "    <tr>\n",
       "      <th>5</th>\n",
       "      <td>25 Shearwater Place</td>\n",
       "    </tr>\n",
       "    <tr>\n",
       "      <th>6</th>\n",
       "      <td>37 Dalziel Drive</td>\n",
       "    </tr>\n",
       "    <tr>\n",
       "      <th>7</th>\n",
       "      <td>9 Ronsard Crescent</td>\n",
       "    </tr>\n",
       "    <tr>\n",
       "      <th>8</th>\n",
       "      <td>13 Strider Street</td>\n",
       "    </tr>\n",
       "    <tr>\n",
       "      <th>9</th>\n",
       "      <td>13 Ramez Street</td>\n",
       "    </tr>\n",
       "    <tr>\n",
       "      <th>10</th>\n",
       "      <td>9 Arum Walk</td>\n",
       "    </tr>\n",
       "    <tr>\n",
       "      <th>11</th>\n",
       "      <td>17 Pipers Lane</td>\n",
       "    </tr>\n",
       "    <tr>\n",
       "      <th>12</th>\n",
       "      <td>11 Rye Road</td>\n",
       "    </tr>\n",
       "    <tr>\n",
       "      <th>13</th>\n",
       "      <td>17 Rowell Drive</td>\n",
       "    </tr>\n",
       "    <tr>\n",
       "      <th>14</th>\n",
       "      <td>35 Melliodora Drive</td>\n",
       "    </tr>\n",
       "    <tr>\n",
       "      <th>15</th>\n",
       "      <td>74 Silverwood Drive</td>\n",
       "    </tr>\n",
       "    <tr>\n",
       "      <th>16</th>\n",
       "      <td>34 Schotters Road</td>\n",
       "    </tr>\n",
       "    <tr>\n",
       "      <th>17</th>\n",
       "      <td>13 Bickerton Crescent</td>\n",
       "    </tr>\n",
       "    <tr>\n",
       "      <th>18</th>\n",
       "      <td>15 Kruger Street</td>\n",
       "    </tr>\n",
       "    <tr>\n",
       "      <th>19</th>\n",
       "      <td>12 Burrell Way</td>\n",
       "    </tr>\n",
       "  </tbody>\n",
       "</table>\n",
       "</div>"
      ],
      "text/plain": [
       "                  Address\n",
       "0          5 Destiny View\n",
       "1          14 Womble  Way\n",
       "2          57 Bellini Way\n",
       "3      38 Boyce Boulevard\n",
       "4      77 Waterview Drive\n",
       "5     25 Shearwater Place\n",
       "6        37 Dalziel Drive\n",
       "7      9 Ronsard Crescent\n",
       "8       13 Strider Street\n",
       "9         13 Ramez Street\n",
       "10            9 Arum Walk\n",
       "11         17 Pipers Lane\n",
       "12            11 Rye Road\n",
       "13        17 Rowell Drive\n",
       "14    35 Melliodora Drive\n",
       "15    74 Silverwood Drive\n",
       "16      34 Schotters Road\n",
       "17  13 Bickerton Crescent\n",
       "18       15 Kruger Street\n",
       "19         12 Burrell Way"
      ]
     },
     "execution_count": 157,
     "metadata": {},
     "output_type": "execute_result"
    }
   ],
   "source": [
    "# Extract Property Address\n",
    "st_address = result.find_all('span', attrs={\"itemprop\":\"streetAddress\"})\n",
    "st_addresses = []\n",
    "for st_address in st_address:\n",
    "    cleaned = st_address.text.rsplit(',')[0]\n",
    "    st_addresses.append(cleaned)\n",
    "Address = pd.DataFrame(st_addresses, columns=[\"Address\"])\n",
    "Address"
   ]
  },
  {
   "cell_type": "code",
   "execution_count": 158,
   "metadata": {},
   "outputs": [],
   "source": [
    "# Extract Property Suburb\n",
    "suburb = result.find_all('span', attrs={\"itemprop\":\"addressLocality\"})\n",
    "suburb\n",
    "suburbs = []\n",
    "for suburb in suburb:\n",
    "    suburbs.append(suburb.text)\n",
    "Suburb = pd.DataFrame(suburbs, columns=[\"Suburb\"])"
   ]
  },
  {
   "cell_type": "code",
   "execution_count": null,
   "metadata": {},
   "outputs": [],
   "source": []
  },
  {
   "cell_type": "code",
   "execution_count": 163,
   "metadata": {},
   "outputs": [
    {
     "name": "stdout",
     "output_type": "stream",
     "text": [
      "                  Address  Suburb       Sold_Price\n",
      "0          5 Destiny View  MERNDA        $480,000 \n",
      "1          14 Womble  Way  MERNDA        $620,000 \n",
      "2          57 Bellini Way  MERNDA        $560,500 \n",
      "3      38 Boyce Boulevard  MERNDA        $495,000 \n",
      "4      77 Waterview Drive  MERNDA        $740,000 \n",
      "5     25 Shearwater Place  MERNDA        $550,000 \n",
      "6        37 Dalziel Drive  MERNDA        $720,000 \n",
      "7      9 Ronsard Crescent  MERNDA  Price Withheld \n",
      "8       13 Strider Street  MERNDA        $327,500 \n",
      "9         13 Ramez Street  MERNDA        $471,000 \n",
      "10            9 Arum Walk  MERNDA        $582,000 \n",
      "11         17 Pipers Lane  MERNDA  Price Withheld \n",
      "12            11 Rye Road  MERNDA        $510,000 \n",
      "13        17 Rowell Drive  MERNDA        $575,000 \n",
      "14    35 Melliodora Drive  MERNDA        $690,000 \n",
      "15    74 Silverwood Drive  MERNDA        $425,000 \n",
      "16      34 Schotters Road  MERNDA        $540,000 \n",
      "17  13 Bickerton Crescent  MERNDA        $235,000 \n",
      "18       15 Kruger Street  MERNDA        $550,000 \n",
      "19         12 Burrell Way  MERNDA        $550,000 \n"
     ]
    }
   ],
   "source": [
    "PropList = pd.concat([Address,Suburb,Sold_Price],axis=1,sort=False)\n",
    "\n",
    "# Set index to start @ 1 instead of 0\n",
    "#PropList.index = PropList.index + 1\n",
    "print(PropList)\n",
    "\n"
   ]
  },
  {
   "cell_type": "code",
   "execution_count": 161,
   "metadata": {},
   "outputs": [],
   "source": [
    "# Extract Property Features\n",
    "#feature = result.find_all('li', attrs={\"class\": \"css-1b4kfhp\"})\n",
    "#x = feature[0].text\n",
    "#x\n",
    "#feature\n",
    "#features0 = []\n",
    "#features1 = []\n",
    "#features2 = []\n",
    "#features3 = []\n",
    "#for feature in feature:\n",
    "#    cleaned = feature.text.rsplit(' ')\n",
    "#    features0.append(cleaned[0])\n",
    "#    features1.append(cleaned[1])\n",
    "#    features2.append(cleaned[2])\n",
    "#    features3.append(cleaned[3])\n",
    "#Feature = pd.DataFrame(features, columns=[\"Feature\"])\n",
    "#Feature"
   ]
  },
  {
   "cell_type": "markdown",
   "metadata": {},
   "source": [
    "## Try Scrapy??"
   ]
  },
  {
   "cell_type": "code",
   "execution_count": 162,
   "metadata": {},
   "outputs": [],
   "source": [
    "#features0 = []\n",
    "#features1 = []\n",
    "#features2 = []\n",
    "#features3 = []\n",
    "#for feature in feature:\n",
    "#    cleaned = feature.text.rsplit(' ')\n",
    "#    features0.append(cleaned[0])\n",
    "#    features1.append(cleaned[1])\n",
    "#    features2.append(cleaned[2])\n",
    "#    features3.append(cleaned[3])\n",
    "#Feature = pd.DataFrame(features, columns=[\"Feature\"])\n",
    "#Feature"
   ]
  },
  {
   "cell_type": "markdown",
   "metadata": {},
   "source": [
    "## Test Test"
   ]
  },
  {
   "cell_type": "code",
   "execution_count": null,
   "metadata": {},
   "outputs": [],
   "source": []
  }
 ],
 "metadata": {
  "kernelspec": {
   "display_name": "Python 3",
   "language": "python",
   "name": "python3"
  },
  "language_info": {
   "codemirror_mode": {
    "name": "ipython",
    "version": 3
   },
   "file_extension": ".py",
   "mimetype": "text/x-python",
   "name": "python",
   "nbconvert_exporter": "python",
   "pygments_lexer": "ipython3",
   "version": "3.7.3"
  }
 },
 "nbformat": 4,
 "nbformat_minor": 2
}
